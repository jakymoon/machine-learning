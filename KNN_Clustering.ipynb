{
 "cells": [
  {
   "cell_type": "code",
   "execution_count": 1,
   "id": "57f0d870",
   "metadata": {},
   "outputs": [],
   "source": [
    "import pandas as pd\n",
    "import numpy as np"
   ]
  },
  {
   "cell_type": "code",
   "execution_count": 2,
   "id": "20c4d98f",
   "metadata": {},
   "outputs": [],
   "source": [
    "df = pd.read_csv(\"BankChurners.csv\",index_col=\"CLIENTNUM\")"
   ]
  },
  {
   "cell_type": "code",
   "execution_count": 3,
   "id": "e48fbf8d",
   "metadata": {},
   "outputs": [
    {
     "data": {
      "text/html": [
       "<div>\n",
       "<style scoped>\n",
       "    .dataframe tbody tr th:only-of-type {\n",
       "        vertical-align: middle;\n",
       "    }\n",
       "\n",
       "    .dataframe tbody tr th {\n",
       "        vertical-align: top;\n",
       "    }\n",
       "\n",
       "    .dataframe thead th {\n",
       "        text-align: right;\n",
       "    }\n",
       "</style>\n",
       "<table border=\"1\" class=\"dataframe\">\n",
       "  <thead>\n",
       "    <tr style=\"text-align: right;\">\n",
       "      <th></th>\n",
       "      <th>Attrition_Flag</th>\n",
       "      <th>Customer_Age</th>\n",
       "      <th>Gender</th>\n",
       "      <th>Dependent_count</th>\n",
       "      <th>Education_Level</th>\n",
       "      <th>Marital_Status</th>\n",
       "      <th>Income_Category</th>\n",
       "      <th>Card_Category</th>\n",
       "      <th>Months_on_book</th>\n",
       "      <th>Total_Relationship_Count</th>\n",
       "      <th>Months_Inactive_12_mon</th>\n",
       "      <th>Contacts_Count_12_mon</th>\n",
       "      <th>Credit_Limit</th>\n",
       "      <th>Total_Revolving_Bal</th>\n",
       "      <th>Avg_Open_To_Buy</th>\n",
       "      <th>Total_Amt_Chng_Q4_Q1</th>\n",
       "      <th>Total_Trans_Amt</th>\n",
       "      <th>Total_Trans_Ct</th>\n",
       "      <th>Total_Ct_Chng_Q4_Q1</th>\n",
       "      <th>Avg_Utilization_Ratio</th>\n",
       "    </tr>\n",
       "    <tr>\n",
       "      <th>CLIENTNUM</th>\n",
       "      <th></th>\n",
       "      <th></th>\n",
       "      <th></th>\n",
       "      <th></th>\n",
       "      <th></th>\n",
       "      <th></th>\n",
       "      <th></th>\n",
       "      <th></th>\n",
       "      <th></th>\n",
       "      <th></th>\n",
       "      <th></th>\n",
       "      <th></th>\n",
       "      <th></th>\n",
       "      <th></th>\n",
       "      <th></th>\n",
       "      <th></th>\n",
       "      <th></th>\n",
       "      <th></th>\n",
       "      <th></th>\n",
       "      <th></th>\n",
       "    </tr>\n",
       "  </thead>\n",
       "  <tbody>\n",
       "    <tr>\n",
       "      <th>768805383</th>\n",
       "      <td>Existing Customer</td>\n",
       "      <td>45</td>\n",
       "      <td>M</td>\n",
       "      <td>3</td>\n",
       "      <td>High School</td>\n",
       "      <td>Married</td>\n",
       "      <td>$60K - $80K</td>\n",
       "      <td>Blue</td>\n",
       "      <td>39</td>\n",
       "      <td>5</td>\n",
       "      <td>1</td>\n",
       "      <td>3</td>\n",
       "      <td>12691.0</td>\n",
       "      <td>777</td>\n",
       "      <td>11914.0</td>\n",
       "      <td>1.335</td>\n",
       "      <td>1144</td>\n",
       "      <td>42</td>\n",
       "      <td>1.625</td>\n",
       "      <td>0.061</td>\n",
       "    </tr>\n",
       "    <tr>\n",
       "      <th>818770008</th>\n",
       "      <td>Existing Customer</td>\n",
       "      <td>49</td>\n",
       "      <td>F</td>\n",
       "      <td>5</td>\n",
       "      <td>Graduate</td>\n",
       "      <td>Single</td>\n",
       "      <td>Less than $40K</td>\n",
       "      <td>Blue</td>\n",
       "      <td>44</td>\n",
       "      <td>6</td>\n",
       "      <td>1</td>\n",
       "      <td>2</td>\n",
       "      <td>8256.0</td>\n",
       "      <td>864</td>\n",
       "      <td>7392.0</td>\n",
       "      <td>1.541</td>\n",
       "      <td>1291</td>\n",
       "      <td>33</td>\n",
       "      <td>3.714</td>\n",
       "      <td>0.105</td>\n",
       "    </tr>\n",
       "    <tr>\n",
       "      <th>713982108</th>\n",
       "      <td>Existing Customer</td>\n",
       "      <td>51</td>\n",
       "      <td>M</td>\n",
       "      <td>3</td>\n",
       "      <td>Graduate</td>\n",
       "      <td>Married</td>\n",
       "      <td>$80K - $120K</td>\n",
       "      <td>Blue</td>\n",
       "      <td>36</td>\n",
       "      <td>4</td>\n",
       "      <td>1</td>\n",
       "      <td>0</td>\n",
       "      <td>3418.0</td>\n",
       "      <td>0</td>\n",
       "      <td>3418.0</td>\n",
       "      <td>2.594</td>\n",
       "      <td>1887</td>\n",
       "      <td>20</td>\n",
       "      <td>2.333</td>\n",
       "      <td>0.000</td>\n",
       "    </tr>\n",
       "    <tr>\n",
       "      <th>769911858</th>\n",
       "      <td>Existing Customer</td>\n",
       "      <td>40</td>\n",
       "      <td>F</td>\n",
       "      <td>4</td>\n",
       "      <td>High School</td>\n",
       "      <td>Unknown</td>\n",
       "      <td>Less than $40K</td>\n",
       "      <td>Blue</td>\n",
       "      <td>34</td>\n",
       "      <td>3</td>\n",
       "      <td>4</td>\n",
       "      <td>1</td>\n",
       "      <td>3313.0</td>\n",
       "      <td>2517</td>\n",
       "      <td>796.0</td>\n",
       "      <td>1.405</td>\n",
       "      <td>1171</td>\n",
       "      <td>20</td>\n",
       "      <td>2.333</td>\n",
       "      <td>0.760</td>\n",
       "    </tr>\n",
       "    <tr>\n",
       "      <th>709106358</th>\n",
       "      <td>Existing Customer</td>\n",
       "      <td>40</td>\n",
       "      <td>M</td>\n",
       "      <td>3</td>\n",
       "      <td>Uneducated</td>\n",
       "      <td>Married</td>\n",
       "      <td>$60K - $80K</td>\n",
       "      <td>Blue</td>\n",
       "      <td>21</td>\n",
       "      <td>5</td>\n",
       "      <td>1</td>\n",
       "      <td>0</td>\n",
       "      <td>4716.0</td>\n",
       "      <td>0</td>\n",
       "      <td>4716.0</td>\n",
       "      <td>2.175</td>\n",
       "      <td>816</td>\n",
       "      <td>28</td>\n",
       "      <td>2.500</td>\n",
       "      <td>0.000</td>\n",
       "    </tr>\n",
       "  </tbody>\n",
       "</table>\n",
       "</div>"
      ],
      "text/plain": [
       "              Attrition_Flag  Customer_Age Gender  Dependent_count  \\\n",
       "CLIENTNUM                                                            \n",
       "768805383  Existing Customer            45      M                3   \n",
       "818770008  Existing Customer            49      F                5   \n",
       "713982108  Existing Customer            51      M                3   \n",
       "769911858  Existing Customer            40      F                4   \n",
       "709106358  Existing Customer            40      M                3   \n",
       "\n",
       "          Education_Level Marital_Status Income_Category Card_Category  \\\n",
       "CLIENTNUM                                                                \n",
       "768805383     High School        Married     $60K - $80K          Blue   \n",
       "818770008        Graduate         Single  Less than $40K          Blue   \n",
       "713982108        Graduate        Married    $80K - $120K          Blue   \n",
       "769911858     High School        Unknown  Less than $40K          Blue   \n",
       "709106358      Uneducated        Married     $60K - $80K          Blue   \n",
       "\n",
       "           Months_on_book  Total_Relationship_Count  Months_Inactive_12_mon  \\\n",
       "CLIENTNUM                                                                     \n",
       "768805383              39                         5                       1   \n",
       "818770008              44                         6                       1   \n",
       "713982108              36                         4                       1   \n",
       "769911858              34                         3                       4   \n",
       "709106358              21                         5                       1   \n",
       "\n",
       "           Contacts_Count_12_mon  Credit_Limit  Total_Revolving_Bal  \\\n",
       "CLIENTNUM                                                             \n",
       "768805383                      3       12691.0                  777   \n",
       "818770008                      2        8256.0                  864   \n",
       "713982108                      0        3418.0                    0   \n",
       "769911858                      1        3313.0                 2517   \n",
       "709106358                      0        4716.0                    0   \n",
       "\n",
       "           Avg_Open_To_Buy  Total_Amt_Chng_Q4_Q1  Total_Trans_Amt  \\\n",
       "CLIENTNUM                                                           \n",
       "768805383          11914.0                 1.335             1144   \n",
       "818770008           7392.0                 1.541             1291   \n",
       "713982108           3418.0                 2.594             1887   \n",
       "769911858            796.0                 1.405             1171   \n",
       "709106358           4716.0                 2.175              816   \n",
       "\n",
       "           Total_Trans_Ct  Total_Ct_Chng_Q4_Q1  Avg_Utilization_Ratio  \n",
       "CLIENTNUM                                                              \n",
       "768805383              42                1.625                  0.061  \n",
       "818770008              33                3.714                  0.105  \n",
       "713982108              20                2.333                  0.000  \n",
       "769911858              20                2.333                  0.760  \n",
       "709106358              28                2.500                  0.000  "
      ]
     },
     "execution_count": 3,
     "metadata": {},
     "output_type": "execute_result"
    }
   ],
   "source": [
    "df.head()"
   ]
  },
  {
   "cell_type": "code",
   "execution_count": 4,
   "id": "f0a7b32e",
   "metadata": {},
   "outputs": [
    {
     "data": {
      "text/plain": [
       "array(['$60K - $80K', 'Less than $40K', '$80K - $120K', '$40K - $60K',\n",
       "       '$120K +', 'Unknown'], dtype=object)"
      ]
     },
     "execution_count": 4,
     "metadata": {},
     "output_type": "execute_result"
    }
   ],
   "source": [
    "df.Income_Category.unique()"
   ]
  },
  {
   "cell_type": "code",
   "execution_count": 5,
   "id": "34ea162a",
   "metadata": {},
   "outputs": [],
   "source": [
    "df[\"Income\"] = np.select([\n",
    "    (df[\"Income_Category\"] == \"Less than $40K\"),\n",
    "    (df[\"Income_Category\"] == \"$40K - $60K\" ),\n",
    "    (df[\"Income_Category\"] == \"$60K - $80K\"),\n",
    "    (df[\"Income_Category\"] == \"$80K - $120K\" ),\n",
    "    (df[\"Income_Category\"] == \"$120K +\" )\n",
    "    ],\n",
    "    [1,2,3,4,5],\n",
    "    default=0\n",
    ")"
   ]
  },
  {
   "cell_type": "code",
   "execution_count": 6,
   "id": "68ec1f3a",
   "metadata": {},
   "outputs": [
    {
     "data": {
      "text/plain": [
       "1    3561\n",
       "2    1790\n",
       "4    1535\n",
       "3    1402\n",
       "0    1112\n",
       "5     727\n",
       "Name: Income, dtype: int64"
      ]
     },
     "execution_count": 6,
     "metadata": {},
     "output_type": "execute_result"
    }
   ],
   "source": [
    "df[\"Income\"].value_counts()"
   ]
  },
  {
   "cell_type": "code",
   "execution_count": 7,
   "id": "b29054ea",
   "metadata": {},
   "outputs": [
    {
     "data": {
      "text/plain": [
       "Existing Customer    8500\n",
       "Attrited Customer    1627\n",
       "Name: Attrition_Flag, dtype: int64"
      ]
     },
     "execution_count": 7,
     "metadata": {},
     "output_type": "execute_result"
    }
   ],
   "source": [
    "df.Attrition_Flag.value_counts()"
   ]
  },
  {
   "cell_type": "code",
   "execution_count": 8,
   "id": "524345f2",
   "metadata": {},
   "outputs": [],
   "source": [
    "df[\"Attrition_Flag\"] = np.select([\n",
    "    (df[\"Attrition_Flag\"] == \"Existing Customer\"),\n",
    "    (df[\"Attrition_Flag\"] == \"Attrited Customer\" ),\n",
    "    ],\n",
    "    [1,0],\n",
    ")"
   ]
  },
  {
   "cell_type": "code",
   "execution_count": 9,
   "id": "495b5c37",
   "metadata": {},
   "outputs": [
    {
     "data": {
      "text/plain": [
       "1    8500\n",
       "0    1627\n",
       "Name: Attrition_Flag, dtype: int64"
      ]
     },
     "execution_count": 9,
     "metadata": {},
     "output_type": "execute_result"
    }
   ],
   "source": [
    "df.Attrition_Flag.value_counts()"
   ]
  },
  {
   "cell_type": "code",
   "execution_count": 10,
   "id": "9f80ef67",
   "metadata": {},
   "outputs": [
    {
     "data": {
      "text/plain": [
       "Graduate         3128\n",
       "High School      2013\n",
       "Unknown          1519\n",
       "Uneducated       1487\n",
       "College          1013\n",
       "Post-Graduate     516\n",
       "Doctorate         451\n",
       "Name: Education_Level, dtype: int64"
      ]
     },
     "execution_count": 10,
     "metadata": {},
     "output_type": "execute_result"
    }
   ],
   "source": [
    "df.Education_Level.value_counts()"
   ]
  },
  {
   "cell_type": "code",
   "execution_count": 11,
   "id": "9d94f1ae",
   "metadata": {},
   "outputs": [],
   "source": [
    "df[\"Education_Level\"] = np.select([\n",
    "    (df[\"Education_Level\"] == \"Uneducated\"),\n",
    "    (df[\"Education_Level\"] == \"High School\"),\n",
    "    (df[\"Education_Level\"] == \"College\"),\n",
    "    (df[\"Education_Level\"] == \"Graduate\"),\n",
    "    (df[\"Education_Level\"] == \"Post-Graduate\"),\n",
    "    (df[\"Education_Level\"] == \"Doctorate\")\n",
    "    ],\n",
    "    [1,2,3,4,5,6],\n",
    "    default=0\n",
    ")"
   ]
  },
  {
   "cell_type": "code",
   "execution_count": 12,
   "id": "964f94cc",
   "metadata": {},
   "outputs": [
    {
     "data": {
      "text/plain": [
       "4    3128\n",
       "2    2013\n",
       "0    1519\n",
       "1    1487\n",
       "3    1013\n",
       "5     516\n",
       "6     451\n",
       "Name: Education_Level, dtype: int64"
      ]
     },
     "execution_count": 12,
     "metadata": {},
     "output_type": "execute_result"
    }
   ],
   "source": [
    "df.Education_Level.value_counts()"
   ]
  },
  {
   "cell_type": "code",
   "execution_count": 13,
   "id": "6a887e2d",
   "metadata": {},
   "outputs": [
    {
     "data": {
      "text/plain": [
       "Blue        9436\n",
       "Silver       555\n",
       "Gold         116\n",
       "Platinum      20\n",
       "Name: Card_Category, dtype: int64"
      ]
     },
     "execution_count": 13,
     "metadata": {},
     "output_type": "execute_result"
    }
   ],
   "source": [
    "df.Card_Category.value_counts()"
   ]
  },
  {
   "cell_type": "code",
   "execution_count": 14,
   "id": "009620e3",
   "metadata": {},
   "outputs": [],
   "source": [
    "df[\"Card_Category\"] = np.select([\n",
    "    (df[\"Card_Category\"] == \"Blue\"),\n",
    "    (df[\"Card_Category\"] == \"Silver\"),\n",
    "    (df[\"Card_Category\"] == \"Gold\"),\n",
    "    (df[\"Card_Category\"] == \"Platinum\")\n",
    "    ],\n",
    "    [1,2,3,4],\n",
    ")"
   ]
  },
  {
   "cell_type": "code",
   "execution_count": 15,
   "id": "6a250928",
   "metadata": {},
   "outputs": [
    {
     "data": {
      "text/plain": [
       "1    9436\n",
       "2     555\n",
       "3     116\n",
       "4      20\n",
       "Name: Card_Category, dtype: int64"
      ]
     },
     "execution_count": 15,
     "metadata": {},
     "output_type": "execute_result"
    }
   ],
   "source": [
    "df.Card_Category.value_counts()"
   ]
  },
  {
   "cell_type": "code",
   "execution_count": 16,
   "id": "266f151f",
   "metadata": {},
   "outputs": [
    {
     "name": "stdout",
     "output_type": "stream",
     "text": [
      "<class 'pandas.core.frame.DataFrame'>\n",
      "Int64Index: 10127 entries, 768805383 to 714337233\n",
      "Data columns (total 21 columns):\n",
      " #   Column                    Non-Null Count  Dtype  \n",
      "---  ------                    --------------  -----  \n",
      " 0   Attrition_Flag            10127 non-null  int32  \n",
      " 1   Customer_Age              10127 non-null  int64  \n",
      " 2   Gender                    10127 non-null  object \n",
      " 3   Dependent_count           10127 non-null  int64  \n",
      " 4   Education_Level           10127 non-null  int32  \n",
      " 5   Marital_Status            10127 non-null  object \n",
      " 6   Income_Category           10127 non-null  object \n",
      " 7   Card_Category             10127 non-null  int32  \n",
      " 8   Months_on_book            10127 non-null  int64  \n",
      " 9   Total_Relationship_Count  10127 non-null  int64  \n",
      " 10  Months_Inactive_12_mon    10127 non-null  int64  \n",
      " 11  Contacts_Count_12_mon     10127 non-null  int64  \n",
      " 12  Credit_Limit              10127 non-null  float64\n",
      " 13  Total_Revolving_Bal       10127 non-null  int64  \n",
      " 14  Avg_Open_To_Buy           10127 non-null  float64\n",
      " 15  Total_Amt_Chng_Q4_Q1      10127 non-null  float64\n",
      " 16  Total_Trans_Amt           10127 non-null  int64  \n",
      " 17  Total_Trans_Ct            10127 non-null  int64  \n",
      " 18  Total_Ct_Chng_Q4_Q1       10127 non-null  float64\n",
      " 19  Avg_Utilization_Ratio     10127 non-null  float64\n",
      " 20  Income                    10127 non-null  int32  \n",
      "dtypes: float64(5), int32(4), int64(9), object(3)\n",
      "memory usage: 1.5+ MB\n"
     ]
    }
   ],
   "source": [
    "df.info()"
   ]
  },
  {
   "cell_type": "code",
   "execution_count": 17,
   "id": "2136c5fd",
   "metadata": {},
   "outputs": [],
   "source": [
    "df = df.drop(\"Income_Category\",axis=1)"
   ]
  },
  {
   "cell_type": "code",
   "execution_count": 18,
   "id": "ca9ec239",
   "metadata": {},
   "outputs": [],
   "source": [
    "df = pd.get_dummies(df,drop_first=True,columns=[\"Marital_Status\",\"Gender\"])"
   ]
  },
  {
   "cell_type": "code",
   "execution_count": 19,
   "id": "f2799e3f",
   "metadata": {},
   "outputs": [
    {
     "name": "stdout",
     "output_type": "stream",
     "text": [
      "<class 'pandas.core.frame.DataFrame'>\n",
      "Int64Index: 10127 entries, 768805383 to 714337233\n",
      "Data columns (total 22 columns):\n",
      " #   Column                    Non-Null Count  Dtype  \n",
      "---  ------                    --------------  -----  \n",
      " 0   Attrition_Flag            10127 non-null  int32  \n",
      " 1   Customer_Age              10127 non-null  int64  \n",
      " 2   Dependent_count           10127 non-null  int64  \n",
      " 3   Education_Level           10127 non-null  int32  \n",
      " 4   Card_Category             10127 non-null  int32  \n",
      " 5   Months_on_book            10127 non-null  int64  \n",
      " 6   Total_Relationship_Count  10127 non-null  int64  \n",
      " 7   Months_Inactive_12_mon    10127 non-null  int64  \n",
      " 8   Contacts_Count_12_mon     10127 non-null  int64  \n",
      " 9   Credit_Limit              10127 non-null  float64\n",
      " 10  Total_Revolving_Bal       10127 non-null  int64  \n",
      " 11  Avg_Open_To_Buy           10127 non-null  float64\n",
      " 12  Total_Amt_Chng_Q4_Q1      10127 non-null  float64\n",
      " 13  Total_Trans_Amt           10127 non-null  int64  \n",
      " 14  Total_Trans_Ct            10127 non-null  int64  \n",
      " 15  Total_Ct_Chng_Q4_Q1       10127 non-null  float64\n",
      " 16  Avg_Utilization_Ratio     10127 non-null  float64\n",
      " 17  Income                    10127 non-null  int32  \n",
      " 18  Marital_Status_Married    10127 non-null  uint8  \n",
      " 19  Marital_Status_Single     10127 non-null  uint8  \n",
      " 20  Marital_Status_Unknown    10127 non-null  uint8  \n",
      " 21  Gender_M                  10127 non-null  uint8  \n",
      "dtypes: float64(5), int32(4), int64(9), uint8(4)\n",
      "memory usage: 1.4 MB\n"
     ]
    }
   ],
   "source": [
    "df.info()"
   ]
  },
  {
   "cell_type": "code",
   "execution_count": 20,
   "id": "88fbdcf4",
   "metadata": {},
   "outputs": [],
   "source": [
    "from sklearn.preprocessing import MinMaxScaler\n",
    "scaler = MinMaxScaler()"
   ]
  },
  {
   "cell_type": "code",
   "execution_count": 21,
   "id": "1e75d002",
   "metadata": {},
   "outputs": [
    {
     "data": {
      "text/html": [
       "<div>\n",
       "<style scoped>\n",
       "    .dataframe tbody tr th:only-of-type {\n",
       "        vertical-align: middle;\n",
       "    }\n",
       "\n",
       "    .dataframe tbody tr th {\n",
       "        vertical-align: top;\n",
       "    }\n",
       "\n",
       "    .dataframe thead th {\n",
       "        text-align: right;\n",
       "    }\n",
       "</style>\n",
       "<table border=\"1\" class=\"dataframe\">\n",
       "  <thead>\n",
       "    <tr style=\"text-align: right;\">\n",
       "      <th></th>\n",
       "      <th>Attrition_Flag</th>\n",
       "      <th>Customer_Age</th>\n",
       "      <th>Dependent_count</th>\n",
       "      <th>Education_Level</th>\n",
       "      <th>Card_Category</th>\n",
       "      <th>Months_on_book</th>\n",
       "      <th>Total_Relationship_Count</th>\n",
       "      <th>Months_Inactive_12_mon</th>\n",
       "      <th>Contacts_Count_12_mon</th>\n",
       "      <th>Credit_Limit</th>\n",
       "      <th>...</th>\n",
       "      <th>Total_Amt_Chng_Q4_Q1</th>\n",
       "      <th>Total_Trans_Amt</th>\n",
       "      <th>Total_Trans_Ct</th>\n",
       "      <th>Total_Ct_Chng_Q4_Q1</th>\n",
       "      <th>Avg_Utilization_Ratio</th>\n",
       "      <th>Income</th>\n",
       "      <th>Marital_Status_Married</th>\n",
       "      <th>Marital_Status_Single</th>\n",
       "      <th>Marital_Status_Unknown</th>\n",
       "      <th>Gender_M</th>\n",
       "    </tr>\n",
       "  </thead>\n",
       "  <tbody>\n",
       "    <tr>\n",
       "      <th>0</th>\n",
       "      <td>1.0</td>\n",
       "      <td>0.404255</td>\n",
       "      <td>0.6</td>\n",
       "      <td>0.333333</td>\n",
       "      <td>0.0</td>\n",
       "      <td>0.604651</td>\n",
       "      <td>0.8</td>\n",
       "      <td>0.166667</td>\n",
       "      <td>0.500000</td>\n",
       "      <td>0.340190</td>\n",
       "      <td>...</td>\n",
       "      <td>0.392994</td>\n",
       "      <td>0.035273</td>\n",
       "      <td>0.248062</td>\n",
       "      <td>0.437534</td>\n",
       "      <td>0.061061</td>\n",
       "      <td>0.6</td>\n",
       "      <td>1.0</td>\n",
       "      <td>0.0</td>\n",
       "      <td>0.0</td>\n",
       "      <td>1.0</td>\n",
       "    </tr>\n",
       "    <tr>\n",
       "      <th>1</th>\n",
       "      <td>1.0</td>\n",
       "      <td>0.489362</td>\n",
       "      <td>1.0</td>\n",
       "      <td>0.666667</td>\n",
       "      <td>0.0</td>\n",
       "      <td>0.720930</td>\n",
       "      <td>1.0</td>\n",
       "      <td>0.166667</td>\n",
       "      <td>0.333333</td>\n",
       "      <td>0.206112</td>\n",
       "      <td>...</td>\n",
       "      <td>0.453636</td>\n",
       "      <td>0.043452</td>\n",
       "      <td>0.178295</td>\n",
       "      <td>1.000000</td>\n",
       "      <td>0.105105</td>\n",
       "      <td>0.2</td>\n",
       "      <td>0.0</td>\n",
       "      <td>1.0</td>\n",
       "      <td>0.0</td>\n",
       "      <td>0.0</td>\n",
       "    </tr>\n",
       "    <tr>\n",
       "      <th>2</th>\n",
       "      <td>1.0</td>\n",
       "      <td>0.531915</td>\n",
       "      <td>0.6</td>\n",
       "      <td>0.666667</td>\n",
       "      <td>0.0</td>\n",
       "      <td>0.534884</td>\n",
       "      <td>0.6</td>\n",
       "      <td>0.166667</td>\n",
       "      <td>0.000000</td>\n",
       "      <td>0.059850</td>\n",
       "      <td>...</td>\n",
       "      <td>0.763615</td>\n",
       "      <td>0.076611</td>\n",
       "      <td>0.077519</td>\n",
       "      <td>0.628164</td>\n",
       "      <td>0.000000</td>\n",
       "      <td>0.8</td>\n",
       "      <td>1.0</td>\n",
       "      <td>0.0</td>\n",
       "      <td>0.0</td>\n",
       "      <td>1.0</td>\n",
       "    </tr>\n",
       "    <tr>\n",
       "      <th>3</th>\n",
       "      <td>1.0</td>\n",
       "      <td>0.297872</td>\n",
       "      <td>0.8</td>\n",
       "      <td>0.333333</td>\n",
       "      <td>0.0</td>\n",
       "      <td>0.488372</td>\n",
       "      <td>0.4</td>\n",
       "      <td>0.666667</td>\n",
       "      <td>0.166667</td>\n",
       "      <td>0.056676</td>\n",
       "      <td>...</td>\n",
       "      <td>0.413600</td>\n",
       "      <td>0.036775</td>\n",
       "      <td>0.077519</td>\n",
       "      <td>0.628164</td>\n",
       "      <td>0.760761</td>\n",
       "      <td>0.2</td>\n",
       "      <td>0.0</td>\n",
       "      <td>0.0</td>\n",
       "      <td>1.0</td>\n",
       "      <td>0.0</td>\n",
       "    </tr>\n",
       "    <tr>\n",
       "      <th>4</th>\n",
       "      <td>1.0</td>\n",
       "      <td>0.297872</td>\n",
       "      <td>0.6</td>\n",
       "      <td>0.166667</td>\n",
       "      <td>0.0</td>\n",
       "      <td>0.186047</td>\n",
       "      <td>0.8</td>\n",
       "      <td>0.166667</td>\n",
       "      <td>0.000000</td>\n",
       "      <td>0.099091</td>\n",
       "      <td>...</td>\n",
       "      <td>0.640271</td>\n",
       "      <td>0.017025</td>\n",
       "      <td>0.139535</td>\n",
       "      <td>0.673129</td>\n",
       "      <td>0.000000</td>\n",
       "      <td>0.6</td>\n",
       "      <td>1.0</td>\n",
       "      <td>0.0</td>\n",
       "      <td>0.0</td>\n",
       "      <td>1.0</td>\n",
       "    </tr>\n",
       "  </tbody>\n",
       "</table>\n",
       "<p>5 rows × 22 columns</p>\n",
       "</div>"
      ],
      "text/plain": [
       "   Attrition_Flag  Customer_Age  Dependent_count  Education_Level  \\\n",
       "0             1.0      0.404255              0.6         0.333333   \n",
       "1             1.0      0.489362              1.0         0.666667   \n",
       "2             1.0      0.531915              0.6         0.666667   \n",
       "3             1.0      0.297872              0.8         0.333333   \n",
       "4             1.0      0.297872              0.6         0.166667   \n",
       "\n",
       "   Card_Category  Months_on_book  Total_Relationship_Count  \\\n",
       "0            0.0        0.604651                       0.8   \n",
       "1            0.0        0.720930                       1.0   \n",
       "2            0.0        0.534884                       0.6   \n",
       "3            0.0        0.488372                       0.4   \n",
       "4            0.0        0.186047                       0.8   \n",
       "\n",
       "   Months_Inactive_12_mon  Contacts_Count_12_mon  Credit_Limit  ...  \\\n",
       "0                0.166667               0.500000      0.340190  ...   \n",
       "1                0.166667               0.333333      0.206112  ...   \n",
       "2                0.166667               0.000000      0.059850  ...   \n",
       "3                0.666667               0.166667      0.056676  ...   \n",
       "4                0.166667               0.000000      0.099091  ...   \n",
       "\n",
       "   Total_Amt_Chng_Q4_Q1  Total_Trans_Amt  Total_Trans_Ct  Total_Ct_Chng_Q4_Q1  \\\n",
       "0              0.392994         0.035273        0.248062             0.437534   \n",
       "1              0.453636         0.043452        0.178295             1.000000   \n",
       "2              0.763615         0.076611        0.077519             0.628164   \n",
       "3              0.413600         0.036775        0.077519             0.628164   \n",
       "4              0.640271         0.017025        0.139535             0.673129   \n",
       "\n",
       "   Avg_Utilization_Ratio  Income  Marital_Status_Married  \\\n",
       "0               0.061061     0.6                     1.0   \n",
       "1               0.105105     0.2                     0.0   \n",
       "2               0.000000     0.8                     1.0   \n",
       "3               0.760761     0.2                     0.0   \n",
       "4               0.000000     0.6                     1.0   \n",
       "\n",
       "   Marital_Status_Single  Marital_Status_Unknown  Gender_M  \n",
       "0                    0.0                     0.0       1.0  \n",
       "1                    1.0                     0.0       0.0  \n",
       "2                    0.0                     0.0       1.0  \n",
       "3                    0.0                     1.0       0.0  \n",
       "4                    0.0                     0.0       1.0  \n",
       "\n",
       "[5 rows x 22 columns]"
      ]
     },
     "execution_count": 21,
     "metadata": {},
     "output_type": "execute_result"
    }
   ],
   "source": [
    "scaled_data = scaler.fit_transform(df)\n",
    "df_scaled = pd.DataFrame(scaled_data, columns = df.columns)\n",
    "df_scaled.head()"
   ]
  },
  {
   "cell_type": "code",
   "execution_count": 27,
   "id": "510aa404",
   "metadata": {},
   "outputs": [],
   "source": [
    "from sklearn.cluster import KMeans\n",
    "from sklearn.metrics import silhouette_score\n",
    "\n",
    "arr = range(2,11)\n",
    "inertia_list = []\n",
    "silhouette_list=[]\n",
    "\n",
    "for i in arr:\n",
    "    kmeans = KMeans(n_clusters= i, random_state=42)\n",
    "    kmeans.fit(df_scaled)\n",
    "    inertia_list.append( kmeans.inertia_ )\n",
    "    silhouette_list.append( silhouette_score(df_scaled, kmeans.labels_) )"
   ]
  },
  {
   "cell_type": "code",
   "execution_count": 28,
   "id": "ac93877a",
   "metadata": {},
   "outputs": [
    {
     "data": {
      "text/plain": [
       "[<matplotlib.lines.Line2D at 0x1b3825d1760>]"
      ]
     },
     "execution_count": 28,
     "metadata": {},
     "output_type": "execute_result"
    },
    {
     "data": {
      "image/png": "[encoded data removed]",
      "text/plain": [
       "<Figure size 432x288 with 1 Axes>"
      ]
     },
     "metadata": {
      "needs_background": "light"
     },
     "output_type": "display_data"
    }
   ],
   "source": [
    "import matplotlib.pyplot as plt\n",
    "plt.plot(arr,inertia_list, marker=\"o\" )"
   ]
  },
  {
   "cell_type": "markdown",
   "id": "0fbc1dcd",
   "metadata": {},
   "source": [
    "Elbow Method does not provide clear insight, we can guess \"5\" approximately"
   ]
  },
  {
   "cell_type": "code",
   "execution_count": 29,
   "id": "124f25b7",
   "metadata": {},
   "outputs": [
    {
     "data": {
      "text/plain": [
       "[<matplotlib.lines.Line2D at 0x1b38263c850>]"
      ]
     },
     "execution_count": 29,
     "metadata": {},
     "output_type": "execute_result"
    },
    {
     "data": {
      "image/png": "[encoded data removed]",
      "text/plain": [
       "<Figure size 432x288 with 1 Axes>"
      ]
     },
     "metadata": {
      "needs_background": "light"
     },
     "output_type": "display_data"
    }
   ],
   "source": [
    "plt.plot(arr, silhouette_list)"
   ]
  },
  {
   "cell_type": "markdown",
   "id": "39e0a75c",
   "metadata": {},
   "source": [
    "Here we can see clearly 5 is the best *k value*"
   ]
  },
  {
   "cell_type": "code",
   "execution_count": 25,
   "id": "210b73f1",
   "metadata": {
    "scrolled": true
   },
   "outputs": [
    {
     "data": {
      "text/plain": [
       "KMeans(max_iter=1000, n_clusters=5)"
      ]
     },
     "execution_count": 25,
     "metadata": {},
     "output_type": "execute_result"
    }
   ],
   "source": [
    "#  Rerunning with the selected best k value\n",
    "cluster = KMeans(n_clusters=5, max_iter=1000)\n",
    "\n",
    "cluster.fit(df_scaled)"
   ]
  },
  {
   "cell_type": "code",
   "execution_count": 35,
   "id": "56ac026e",
   "metadata": {},
   "outputs": [],
   "source": [
    "pd.set_option('max_columns', 25)"
   ]
  },
  {
   "cell_type": "code",
   "execution_count": 36,
   "id": "b825105c",
   "metadata": {},
   "outputs": [
    {
     "data": {
      "text/html": [
       "<div>\n",
       "<style scoped>\n",
       "    .dataframe tbody tr th:only-of-type {\n",
       "        vertical-align: middle;\n",
       "    }\n",
       "\n",
       "    .dataframe tbody tr th {\n",
       "        vertical-align: top;\n",
       "    }\n",
       "\n",
       "    .dataframe thead th {\n",
       "        text-align: right;\n",
       "    }\n",
       "</style>\n",
       "<table border=\"1\" class=\"dataframe\">\n",
       "  <thead>\n",
       "    <tr style=\"text-align: right;\">\n",
       "      <th></th>\n",
       "      <th>Attrition_Flag</th>\n",
       "      <th>Customer_Age</th>\n",
       "      <th>Dependent_count</th>\n",
       "      <th>Education_Level</th>\n",
       "      <th>Card_Category</th>\n",
       "      <th>Months_on_book</th>\n",
       "      <th>Total_Relationship_Count</th>\n",
       "      <th>Months_Inactive_12_mon</th>\n",
       "      <th>Contacts_Count_12_mon</th>\n",
       "      <th>Credit_Limit</th>\n",
       "      <th>Total_Revolving_Bal</th>\n",
       "      <th>Avg_Open_To_Buy</th>\n",
       "      <th>Total_Amt_Chng_Q4_Q1</th>\n",
       "      <th>Total_Trans_Amt</th>\n",
       "      <th>Total_Trans_Ct</th>\n",
       "      <th>Total_Ct_Chng_Q4_Q1</th>\n",
       "      <th>Avg_Utilization_Ratio</th>\n",
       "      <th>Income</th>\n",
       "      <th>Marital_Status_Married</th>\n",
       "      <th>Marital_Status_Single</th>\n",
       "      <th>Marital_Status_Unknown</th>\n",
       "      <th>Gender_M</th>\n",
       "    </tr>\n",
       "  </thead>\n",
       "  <tbody>\n",
       "    <tr>\n",
       "      <th>3</th>\n",
       "      <td>0.820706</td>\n",
       "      <td>0.428155</td>\n",
       "      <td>0.457224</td>\n",
       "      <td>0.424235</td>\n",
       "      <td>0.024941</td>\n",
       "      <td>0.528350</td>\n",
       "      <td>0.553318</td>\n",
       "      <td>0.394353</td>\n",
       "      <td>0.409255</td>\n",
       "      <td>0.114475</td>\n",
       "      <td>0.442743</td>\n",
       "      <td>0.119013</td>\n",
       "      <td>0.219163</td>\n",
       "      <td>0.220267</td>\n",
       "      <td>0.453658</td>\n",
       "      <td>0.191130</td>\n",
       "      <td>0.332651</td>\n",
       "      <td>0.198024</td>\n",
       "      <td>-1.387779e-15</td>\n",
       "      <td>1.000000e+00</td>\n",
       "      <td>1.942890e-16</td>\n",
       "      <td>-1.276756e-15</td>\n",
       "    </tr>\n",
       "    <tr>\n",
       "      <th>4</th>\n",
       "      <td>0.831905</td>\n",
       "      <td>0.446618</td>\n",
       "      <td>0.468707</td>\n",
       "      <td>0.443152</td>\n",
       "      <td>0.013600</td>\n",
       "      <td>0.545055</td>\n",
       "      <td>0.567442</td>\n",
       "      <td>0.389433</td>\n",
       "      <td>0.397933</td>\n",
       "      <td>0.096989</td>\n",
       "      <td>0.455135</td>\n",
       "      <td>0.101350</td>\n",
       "      <td>0.224889</td>\n",
       "      <td>0.200213</td>\n",
       "      <td>0.416024</td>\n",
       "      <td>0.192892</td>\n",
       "      <td>0.354351</td>\n",
       "      <td>0.198776</td>\n",
       "      <td>1.000000e+00</td>\n",
       "      <td>-1.443290e-15</td>\n",
       "      <td>1.526557e-16</td>\n",
       "      <td>-1.498801e-15</td>\n",
       "    </tr>\n",
       "    <tr>\n",
       "      <th>1</th>\n",
       "      <td>0.832487</td>\n",
       "      <td>0.410442</td>\n",
       "      <td>0.491226</td>\n",
       "      <td>0.436548</td>\n",
       "      <td>0.028040</td>\n",
       "      <td>0.514984</td>\n",
       "      <td>0.562292</td>\n",
       "      <td>0.389050</td>\n",
       "      <td>0.401982</td>\n",
       "      <td>0.195726</td>\n",
       "      <td>0.459788</td>\n",
       "      <td>0.195642</td>\n",
       "      <td>0.221028</td>\n",
       "      <td>0.228210</td>\n",
       "      <td>0.442934</td>\n",
       "      <td>0.190895</td>\n",
       "      <td>0.274783</td>\n",
       "      <td>0.384336</td>\n",
       "      <td>2.775558e-16</td>\n",
       "      <td>-4.996004e-16</td>\n",
       "      <td>5.431472e-01</td>\n",
       "      <td>4.329224e-01</td>\n",
       "    </tr>\n",
       "    <tr>\n",
       "      <th>0</th>\n",
       "      <td>0.841942</td>\n",
       "      <td>0.431818</td>\n",
       "      <td>0.457025</td>\n",
       "      <td>0.431560</td>\n",
       "      <td>0.045282</td>\n",
       "      <td>0.535472</td>\n",
       "      <td>0.558988</td>\n",
       "      <td>0.389549</td>\n",
       "      <td>0.413567</td>\n",
       "      <td>0.386671</td>\n",
       "      <td>0.451629</td>\n",
       "      <td>0.379240</td>\n",
       "      <td>0.221793</td>\n",
       "      <td>0.235517</td>\n",
       "      <td>0.440307</td>\n",
       "      <td>0.190807</td>\n",
       "      <td>0.176589</td>\n",
       "      <td>0.662707</td>\n",
       "      <td>-1.276756e-15</td>\n",
       "      <td>9.390496e-01</td>\n",
       "      <td>9.714451e-17</td>\n",
       "      <td>1.000000e+00</td>\n",
       "    </tr>\n",
       "    <tr>\n",
       "      <th>2</th>\n",
       "      <td>0.867174</td>\n",
       "      <td>0.435200</td>\n",
       "      <td>0.478265</td>\n",
       "      <td>0.432245</td>\n",
       "      <td>0.031157</td>\n",
       "      <td>0.534166</td>\n",
       "      <td>0.569052</td>\n",
       "      <td>0.388342</td>\n",
       "      <td>0.422257</td>\n",
       "      <td>0.314362</td>\n",
       "      <td>0.498098</td>\n",
       "      <td>0.306550</td>\n",
       "      <td>0.230050</td>\n",
       "      <td>0.207769</td>\n",
       "      <td>0.384473</td>\n",
       "      <td>0.192508</td>\n",
       "      <td>0.219335</td>\n",
       "      <td>0.672361</td>\n",
       "      <td>1.000000e+00</td>\n",
       "      <td>-7.771561e-16</td>\n",
       "      <td>-8.326673e-17</td>\n",
       "      <td>1.000000e+00</td>\n",
       "    </tr>\n",
       "  </tbody>\n",
       "</table>\n",
       "</div>"
      ],
      "text/plain": [
       "   Attrition_Flag  Customer_Age  Dependent_count  Education_Level  \\\n",
       "3        0.820706      0.428155         0.457224         0.424235   \n",
       "4        0.831905      0.446618         0.468707         0.443152   \n",
       "1        0.832487      0.410442         0.491226         0.436548   \n",
       "0        0.841942      0.431818         0.457025         0.431560   \n",
       "2        0.867174      0.435200         0.478265         0.432245   \n",
       "\n",
       "   Card_Category  Months_on_book  Total_Relationship_Count  \\\n",
       "3       0.024941        0.528350                  0.553318   \n",
       "4       0.013600        0.545055                  0.567442   \n",
       "1       0.028040        0.514984                  0.562292   \n",
       "0       0.045282        0.535472                  0.558988   \n",
       "2       0.031157        0.534166                  0.569052   \n",
       "\n",
       "   Months_Inactive_12_mon  Contacts_Count_12_mon  Credit_Limit  \\\n",
       "3                0.394353               0.409255      0.114475   \n",
       "4                0.389433               0.397933      0.096989   \n",
       "1                0.389050               0.401982      0.195726   \n",
       "0                0.389549               0.413567      0.386671   \n",
       "2                0.388342               0.422257      0.314362   \n",
       "\n",
       "   Total_Revolving_Bal  Avg_Open_To_Buy  Total_Amt_Chng_Q4_Q1  \\\n",
       "3             0.442743         0.119013              0.219163   \n",
       "4             0.455135         0.101350              0.224889   \n",
       "1             0.459788         0.195642              0.221028   \n",
       "0             0.451629         0.379240              0.221793   \n",
       "2             0.498098         0.306550              0.230050   \n",
       "\n",
       "   Total_Trans_Amt  Total_Trans_Ct  Total_Ct_Chng_Q4_Q1  \\\n",
       "3         0.220267        0.453658             0.191130   \n",
       "4         0.200213        0.416024             0.192892   \n",
       "1         0.228210        0.442934             0.190895   \n",
       "0         0.235517        0.440307             0.190807   \n",
       "2         0.207769        0.384473             0.192508   \n",
       "\n",
       "   Avg_Utilization_Ratio    Income  Marital_Status_Married  \\\n",
       "3               0.332651  0.198024           -1.387779e-15   \n",
       "4               0.354351  0.198776            1.000000e+00   \n",
       "1               0.274783  0.384336            2.775558e-16   \n",
       "0               0.176589  0.662707           -1.276756e-15   \n",
       "2               0.219335  0.672361            1.000000e+00   \n",
       "\n",
       "   Marital_Status_Single  Marital_Status_Unknown      Gender_M  \n",
       "3           1.000000e+00            1.942890e-16 -1.276756e-15  \n",
       "4          -1.443290e-15            1.526557e-16 -1.498801e-15  \n",
       "1          -4.996004e-16            5.431472e-01  4.329224e-01  \n",
       "0           9.390496e-01            9.714451e-17  1.000000e+00  \n",
       "2          -7.771561e-16           -8.326673e-17  1.000000e+00  "
      ]
     },
     "execution_count": 36,
     "metadata": {},
     "output_type": "execute_result"
    }
   ],
   "source": [
    "#  Printing out cluster centers\n",
    "df_centers = pd.DataFrame(cluster.cluster_centers_, columns = df.columns)\n",
    "df_centers.sort_values(\"Attrition_Flag\")"
   ]
  },
  {
   "cell_type": "markdown",
   "id": "81c73083",
   "metadata": {},
   "source": [
    "While our 2nd cluster has the highest Attrition Flag, our 3rd cluster has the lowest."
   ]
  },
  {
   "cell_type": "markdown",
   "id": "c30949c9",
   "metadata": {},
   "source": [
    "We can call our 2nd cluster loyal customers. Our royal customers have highest Contacts Count, Total Revolving Balance, Total Transaction Amount Q4/Q1 and Income. \n",
    "\n",
    "Royal customers also tend to have high Total Relationship Count, Credit Limit and Avg Open to Buy Credit."
   ]
  },
  {
   "cell_type": "markdown",
   "id": "086bd0a9",
   "metadata": {},
   "source": [
    "In contrary our 3rd cluster has more the leaving customers.\n",
    "\n"
   ]
  },
  {
   "cell_type": "markdown",
   "id": "cd09f83f",
   "metadata": {},
   "source": [
    "Our leaving customers generally have low Total Revolving Balance, Credit Limit and Avg Open to Buy Credit and Income.\n",
    "\n",
    "They also have high Total Transaction Count, Average Card Utilization Ratio."
   ]
  },
  {
   "cell_type": "code",
   "execution_count": null,
   "id": "a083992e",
   "metadata": {},
   "outputs": [],
   "source": []
  }
 ],
 "metadata": {
  "kernelspec": {
   "display_name": "Python 3 (ipykernel)",
   "language": "python",
   "name": "python3"
  },
  "language_info": {
   "codemirror_mode": {
    "name": "ipython",
    "version": 3
   },
   "file_extension": ".py",
   "mimetype": "text/x-python",
   "name": "python",
   "nbconvert_exporter": "python",
   "pygments_lexer": "ipython3",
   "version": "3.9.7"
  }
 },
 "nbformat": 4,
 "nbformat_minor": 5
}
