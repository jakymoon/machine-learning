{
 "cells": [
  {
   "cell_type": "code",
   "execution_count": 2,
   "metadata": {
    "id": "LEHYvZ4v_AGo"
   },
   "outputs": [],
   "source": [
    "import pandas as pd\n",
    "\n",
    "from sklearn.neighbors import KNeighborsClassifier\n",
    "from sklearn.linear_model import LogisticRegression\n",
    "\n",
    "from sklearn.model_selection import train_test_split\n",
    "from sklearn.model_selection import cross_val_score\n",
    "from sklearn.model_selection import LeaveOneOut\n",
    "from sklearn.model_selection import KFold\n",
    "\n",
    "from sklearn.preprocessing import StandardScaler\n",
    "\n",
    "from sklearn.metrics import accuracy_score\n",
    "from sklearn.metrics import confusion_matrix\n",
    "\n",
    "from sklearn.pipeline import make_pipeline\n"
   ]
  },
  {
   "cell_type": "code",
   "execution_count": 3,
   "metadata": {
    "colab": {
     "base_uri": "https://localhost:8080/",
     "height": 204
    },
    "id": "u0uT0iQ1_h4c",
    "outputId": "fe33ceb7-ca92-4c5d-9e52-f2e795b534b7",
    "scrolled": true
   },
   "outputs": [
    {
     "data": {
      "text/html": [
       "<div>\n",
       "<style scoped>\n",
       "    .dataframe tbody tr th:only-of-type {\n",
       "        vertical-align: middle;\n",
       "    }\n",
       "\n",
       "    .dataframe tbody tr th {\n",
       "        vertical-align: top;\n",
       "    }\n",
       "\n",
       "    .dataframe thead th {\n",
       "        text-align: right;\n",
       "    }\n",
       "</style>\n",
       "<table border=\"1\" class=\"dataframe\">\n",
       "  <thead>\n",
       "    <tr style=\"text-align: right;\">\n",
       "      <th></th>\n",
       "      <th>X1</th>\n",
       "      <th>X2</th>\n",
       "      <th>X3</th>\n",
       "      <th>X4</th>\n",
       "      <th>X5</th>\n",
       "      <th>X6</th>\n",
       "      <th>X7</th>\n",
       "      <th>X8</th>\n",
       "      <th>X9</th>\n",
       "      <th>X10</th>\n",
       "      <th>X11</th>\n",
       "      <th>X12</th>\n",
       "      <th>X13</th>\n",
       "      <th>target</th>\n",
       "    </tr>\n",
       "  </thead>\n",
       "  <tbody>\n",
       "    <tr>\n",
       "      <th>0</th>\n",
       "      <td>63</td>\n",
       "      <td>1</td>\n",
       "      <td>3</td>\n",
       "      <td>145</td>\n",
       "      <td>233</td>\n",
       "      <td>1</td>\n",
       "      <td>0</td>\n",
       "      <td>150</td>\n",
       "      <td>0</td>\n",
       "      <td>2.3</td>\n",
       "      <td>0</td>\n",
       "      <td>0</td>\n",
       "      <td>1</td>\n",
       "      <td>1</td>\n",
       "    </tr>\n",
       "    <tr>\n",
       "      <th>1</th>\n",
       "      <td>37</td>\n",
       "      <td>1</td>\n",
       "      <td>2</td>\n",
       "      <td>130</td>\n",
       "      <td>250</td>\n",
       "      <td>0</td>\n",
       "      <td>1</td>\n",
       "      <td>187</td>\n",
       "      <td>0</td>\n",
       "      <td>3.5</td>\n",
       "      <td>0</td>\n",
       "      <td>0</td>\n",
       "      <td>2</td>\n",
       "      <td>1</td>\n",
       "    </tr>\n",
       "    <tr>\n",
       "      <th>2</th>\n",
       "      <td>41</td>\n",
       "      <td>0</td>\n",
       "      <td>1</td>\n",
       "      <td>130</td>\n",
       "      <td>204</td>\n",
       "      <td>0</td>\n",
       "      <td>0</td>\n",
       "      <td>172</td>\n",
       "      <td>0</td>\n",
       "      <td>1.4</td>\n",
       "      <td>2</td>\n",
       "      <td>0</td>\n",
       "      <td>2</td>\n",
       "      <td>1</td>\n",
       "    </tr>\n",
       "    <tr>\n",
       "      <th>3</th>\n",
       "      <td>56</td>\n",
       "      <td>1</td>\n",
       "      <td>1</td>\n",
       "      <td>120</td>\n",
       "      <td>236</td>\n",
       "      <td>0</td>\n",
       "      <td>1</td>\n",
       "      <td>178</td>\n",
       "      <td>0</td>\n",
       "      <td>0.8</td>\n",
       "      <td>2</td>\n",
       "      <td>0</td>\n",
       "      <td>2</td>\n",
       "      <td>1</td>\n",
       "    </tr>\n",
       "    <tr>\n",
       "      <th>4</th>\n",
       "      <td>57</td>\n",
       "      <td>0</td>\n",
       "      <td>0</td>\n",
       "      <td>120</td>\n",
       "      <td>354</td>\n",
       "      <td>0</td>\n",
       "      <td>1</td>\n",
       "      <td>163</td>\n",
       "      <td>1</td>\n",
       "      <td>0.6</td>\n",
       "      <td>2</td>\n",
       "      <td>0</td>\n",
       "      <td>2</td>\n",
       "      <td>1</td>\n",
       "    </tr>\n",
       "  </tbody>\n",
       "</table>\n",
       "</div>"
      ],
      "text/plain": [
       "   X1  X2  X3   X4   X5  X6  X7   X8  X9  X10  X11  X12  X13  target\n",
       "0  63   1   3  145  233   1   0  150   0  2.3    0    0    1       1\n",
       "1  37   1   2  130  250   0   1  187   0  3.5    0    0    2       1\n",
       "2  41   0   1  130  204   0   0  172   0  1.4    2    0    2       1\n",
       "3  56   1   1  120  236   0   1  178   0  0.8    2    0    2       1\n",
       "4  57   0   0  120  354   0   1  163   1  0.6    2    0    2       1"
      ]
     },
     "execution_count": 3,
     "metadata": {},
     "output_type": "execute_result"
    }
   ],
   "source": [
    "df = pd.read_csv(\"../DataSet2022.csv\")\n",
    "df.head()"
   ]
  },
  {
   "cell_type": "code",
   "execution_count": 4,
   "metadata": {
    "scrolled": true
   },
   "outputs": [
    {
     "name": "stdout",
     "output_type": "stream",
     "text": [
      "<class 'pandas.core.frame.DataFrame'>\n",
      "RangeIndex: 303 entries, 0 to 302\n",
      "Data columns (total 14 columns):\n",
      " #   Column  Non-Null Count  Dtype  \n",
      "---  ------  --------------  -----  \n",
      " 0   X1      303 non-null    int64  \n",
      " 1   X2      303 non-null    int64  \n",
      " 2   X3      303 non-null    int64  \n",
      " 3   X4      303 non-null    int64  \n",
      " 4   X5      303 non-null    int64  \n",
      " 5   X6      303 non-null    int64  \n",
      " 6   X7      303 non-null    int64  \n",
      " 7   X8      303 non-null    int64  \n",
      " 8   X9      303 non-null    int64  \n",
      " 9   X10     303 non-null    float64\n",
      " 10  X11     303 non-null    int64  \n",
      " 11  X12     303 non-null    int64  \n",
      " 12  X13     303 non-null    int64  \n",
      " 13  target  303 non-null    int64  \n",
      "dtypes: float64(1), int64(13)\n",
      "memory usage: 33.3 KB\n"
     ]
    }
   ],
   "source": [
    "df.info()"
   ]
  },
  {
   "cell_type": "code",
   "execution_count": 5,
   "metadata": {
    "colab": {
     "base_uri": "https://localhost:8080/"
    },
    "id": "m0_E5QNrqr2v",
    "outputId": "b036ce5f-d784-412f-cd58-a08cde422cd7"
   },
   "outputs": [
    {
     "name": "stdout",
     "output_type": "stream",
     "text": [
      "(242, 13) \n",
      " (61, 13)\n"
     ]
    }
   ],
   "source": [
    "#  A) Splitting dataset\n",
    "from sklearn.model_selection import train_test_split\n",
    "X = df.drop(\"target\",axis=1)\n",
    "y = df[\"target\"]\n",
    "X_train, X_test, y_train, y_test = train_test_split(X,y,test_size=0.2,random_state=42,stratify=y)\n",
    "print(X_train.shape,\"\\n\",X_test.shape)"
   ]
  },
  {
   "cell_type": "code",
   "execution_count": 6,
   "metadata": {
    "id": "FGsaT_yBtD9c"
   },
   "outputs": [],
   "source": [
    "#  B) Applying KNN with different k values  \n",
    "from sklearn.neighbors import KNeighborsClassifier\n",
    "from sklearn.model_selection import cross_val_score,LeaveOneOut\n",
    "acc = []\n",
    "for i in range(1,26):\n",
    "  model = KNeighborsClassifier(i)\n",
    "  scores = cross_val_score(model,X_train,y_train,cv=LeaveOneOut(),scoring=\"accuracy\")\n",
    "  acc.append([scores.mean(),i])"
   ]
  },
  {
   "cell_type": "code",
   "execution_count": 7,
   "metadata": {
    "colab": {
     "base_uri": "https://localhost:8080/"
    },
    "id": "gVzDiJL1yOcD",
    "outputId": "ec6f5611-56fe-46d9-a9d3-f5102bce0703"
   },
   "outputs": [
    {
     "name": "stdout",
     "output_type": "stream",
     "text": [
      "LOOCValidation Accuracies \n",
      "     Accuracy  N Value\n",
      "5   0.694215        6\n",
      "6   0.685950        7\n",
      "9   0.681818       10\n",
      "13  0.677686       14\n",
      "12  0.669421       13\n",
      "15  0.669421       16\n",
      "14  0.669421       15\n",
      "7   0.669421        8\n",
      "10  0.669421       11\n",
      "8   0.661157        9\n",
      "11  0.661157       12\n",
      "22  0.657025       23\n",
      "24  0.657025       25\n",
      "16  0.652893       17\n",
      "17  0.652893       18\n",
      "20  0.652893       21\n",
      "23  0.648760       24\n",
      "4   0.644628        5\n",
      "3   0.644628        4\n",
      "2   0.644628        3\n",
      "18  0.640496       19\n",
      "21  0.640496       22\n",
      "19  0.636364       20\n",
      "0   0.590909        1\n",
      "1   0.574380        2\n"
     ]
    }
   ],
   "source": [
    "df1 = pd.DataFrame(acc,columns=[\"Accuracy\",\"N Value\"])\n",
    "#  Validation Accuracies Sorted\n",
    "print(\"LOOCValidation Accuracies \\n\",df1.sort_values(\"Accuracy\",ascending=False))"
   ]
  },
  {
   "cell_type": "code",
   "execution_count": 8,
   "metadata": {
    "id": "6qNWx0dhYxoM",
    "scrolled": true
   },
   "outputs": [],
   "source": [
    "#  C)\n",
    "#  Best N value chosen\n",
    "knn = KNeighborsClassifier(6)"
   ]
  },
  {
   "cell_type": "code",
   "execution_count": 9,
   "metadata": {
    "scrolled": true
   },
   "outputs": [
    {
     "data": {
      "text/plain": [
       "array([[ 1.61047991, -1.46385011,  2.04442042, ...,  0.94818498,\n",
       "         1.20703366, -0.56122273],\n",
       "       [ 1.28205058,  0.68313005,  0.05747367, ..., -0.6677359 ,\n",
       "         2.16789598, -2.21751422],\n",
       "       [ 0.0778097 , -1.46385011, -0.93599971, ..., -0.6677359 ,\n",
       "         0.24617134,  1.09506875],\n",
       "       ...,\n",
       "       [-0.36009607, -1.46385011,  1.05094704, ...,  0.94818498,\n",
       "        -0.71469098, -0.56122273],\n",
       "       [ 0.0778097 ,  0.68313005,  0.05747367, ...,  0.94818498,\n",
       "        -0.71469098, -0.56122273],\n",
       "       [ 1.0630977 , -1.46385011, -0.93599971, ...,  0.94818498,\n",
       "        -0.71469098, -0.56122273]])"
      ]
     },
     "execution_count": 9,
     "metadata": {},
     "output_type": "execute_result"
    }
   ],
   "source": [
    "#  Standardization\n",
    "from sklearn.preprocessing import StandardScaler\n",
    "std = StandardScaler()\n",
    "std.fit(X_train)\n",
    "X_trainStd = std.transform(X_train)\n",
    "X_testStd = std.transform(X_test)\n",
    "X_trainStd"
   ]
  },
  {
   "cell_type": "code",
   "execution_count": 10,
   "metadata": {},
   "outputs": [
    {
     "data": {
      "text/plain": [
       "0.819672131147541"
      ]
     },
     "execution_count": 10,
     "metadata": {},
     "output_type": "execute_result"
    }
   ],
   "source": [
    "from sklearn.metrics import confusion_matrix,accuracy_score\n",
    "\n",
    "knn.fit(X_trainStd,y_train)\n",
    "y_pred = knn.predict(X_testStd)\n",
    "accuracy_score(y_test, y_pred)"
   ]
  },
  {
   "cell_type": "code",
   "execution_count": 11,
   "metadata": {},
   "outputs": [
    {
     "data": {
      "text/plain": [
       "array([[21,  7],\n",
       "       [ 4, 29]], dtype=int64)"
      ]
     },
     "execution_count": 11,
     "metadata": {},
     "output_type": "execute_result"
    }
   ],
   "source": [
    "matrix = confusion_matrix(y_test, y_pred)\n",
    "matrix"
   ]
  },
  {
   "cell_type": "code",
   "execution_count": 12,
   "metadata": {},
   "outputs": [
    {
     "name": "stdout",
     "output_type": "stream",
     "text": [
      "[Pipeline] .... (step 1 of 2) Processing standardscaler, total=   0.0s\n",
      "[Pipeline]  (step 2 of 2) Processing kneighborsclassifier, total=   0.0s\n",
      "[Pipeline] .... (step 1 of 2) Processing standardscaler, total=   0.0s\n",
      "[Pipeline]  (step 2 of 2) Processing kneighborsclassifier, total=   0.0s\n",
      "[Pipeline] .... (step 1 of 2) Processing standardscaler, total=   0.0s\n",
      "[Pipeline]  (step 2 of 2) Processing kneighborsclassifier, total=   0.0s\n",
      "[Pipeline] .... (step 1 of 2) Processing standardscaler, total=   0.0s\n",
      "[Pipeline]  (step 2 of 2) Processing kneighborsclassifier, total=   0.0s\n",
      "[Pipeline] .... (step 1 of 2) Processing standardscaler, total=   0.0s\n",
      "[Pipeline]  (step 2 of 2) Processing kneighborsclassifier, total=   0.0s\n"
     ]
    },
    {
     "data": {
      "text/plain": [
       "0.8017857142857142"
      ]
     },
     "execution_count": 12,
     "metadata": {},
     "output_type": "execute_result"
    }
   ],
   "source": [
    "from sklearn.pipeline import make_pipeline\n",
    "pipeline = make_pipeline(std,knn,verbose=1)\n",
    "scores = cross_val_score(pipeline,X_train,y_train,scoring=\"accuracy\")\n",
    "scores.mean()"
   ]
  },
  {
   "cell_type": "code",
   "execution_count": 13,
   "metadata": {},
   "outputs": [
    {
     "name": "stdout",
     "output_type": "stream",
     "text": [
      "KFold Validation Accuracies \n",
      "     Accuracy  N Value\n",
      "8   0.678061        9\n",
      "5   0.677976        6\n",
      "7   0.669898        8\n",
      "11  0.665901       12\n",
      "10  0.665816       11\n",
      "6   0.665561        7\n",
      "13  0.657738       14\n",
      "9   0.657568       10\n",
      "14  0.657143       15\n",
      "12  0.653316       13\n",
      "4   0.653146        5\n",
      "16  0.652976       17\n",
      "22  0.649065       23\n",
      "15  0.649065       16\n",
      "2   0.648895        3\n",
      "3   0.644813        4\n",
      "21  0.640731       22\n",
      "23  0.640646       24\n",
      "19  0.636735       20\n",
      "20  0.636565       21\n",
      "24  0.636565       25\n",
      "17  0.632483       18\n",
      "18  0.632313       19\n",
      "0   0.570238        1\n",
      "1   0.553741        2\n"
     ]
    }
   ],
   "source": [
    "#  D) Try different neighbor sizes from 1 to 25 and report 5-fold cross\n",
    "# validation accuracies of each KNN model.\n",
    "from sklearn.model_selection import KFold\n",
    "acc_kfold = []\n",
    "for i in range (1,26):\n",
    "    model = KNeighborsClassifier(i)\n",
    "    scores = cross_val_score(model,X_train,y_train,cv=KFold(5),scoring=\"accuracy\")\n",
    "    acc_kfold.append([scores.mean(),i])\n",
    "    \n",
    "df2 = pd.DataFrame(acc_kfold,columns=[\"Accuracy\",\"N Value\"])\n",
    "#  Validation Accuracies Sorted\n",
    "print(\"KFold Validation Accuracies \\n\",df2.sort_values(\"Accuracy\",ascending=False))"
   ]
  },
  {
   "cell_type": "code",
   "execution_count": 14,
   "metadata": {
    "scrolled": true
   },
   "outputs": [
    {
     "name": "stdout",
     "output_type": "stream",
     "text": [
      "Raw:  0.5901639344262295\n",
      "[[15 13]\n",
      " [12 21]]\n",
      "Standardized:  0.819672131147541\n",
      "[[20  8]\n",
      " [ 3 30]]\n"
     ]
    }
   ],
   "source": [
    "#  e) After picking the neighbor size that has the highest 5-fold cross\n",
    "# validation accuracy, compute the test accuracy and create a confusion matrix\n",
    "#  Best N value chosen\n",
    "from sklearn.metrics import accuracy_score\n",
    "\n",
    "knn_kfold = KNeighborsClassifier(9)\n",
    "\n",
    "knn_kfold.fit(X_train,y_train)\n",
    "y_pred = knn_kfold.predict(X_test)\n",
    "print(\"Raw: \",accuracy_score(y_test, y_pred))\n",
    "matrix = confusion_matrix(y_test, y_pred)\n",
    "print(matrix)\n",
    "\n",
    "knn_kfold.fit(X_trainStd,y_train)\n",
    "y_pred = knn_kfold.predict(X_testStd)\n",
    "print(\"Standardized: \",accuracy_score(y_test, y_pred))\n",
    "matrix = confusion_matrix(y_test, y_pred)\n",
    "print(matrix)"
   ]
  },
  {
   "cell_type": "markdown",
   "metadata": {},
   "source": [
    "f) Are the neighborhood sizes chosen with LOOCV and 5-fold cross\n",
    "validation the same?\n",
    "\n",
    "No but 2nd choice in the 5-fold cross is same with LOOCV"
   ]
  },
  {
   "cell_type": "markdown",
   "metadata": {},
   "source": [
    "Question - 2"
   ]
  },
  {
   "cell_type": "code",
   "execution_count": 15,
   "metadata": {},
   "outputs": [
    {
     "name": "stdout",
     "output_type": "stream",
     "text": [
      "(242, 13) \n",
      " (61, 13)\n"
     ]
    }
   ],
   "source": [
    "#  a) Split your dataset into a test set and train set. (20% test set, \n",
    "# 80% training set, use stratified sampling).\n",
    "X_train, X_test, y_train, y_test = train_test_split(X,y,test_size=0.2,random_state=42,stratify=y)\n",
    "print(X_train.shape,\"\\n\",X_test.shape)"
   ]
  },
  {
   "cell_type": "code",
   "execution_count": 16,
   "metadata": {
    "scrolled": false
   },
   "outputs": [
    {
     "name": "stdout",
     "output_type": "stream",
     "text": [
      "LOOCValidation Accuracies \n",
      "    Accuracy    C Value\n",
      "2  0.822314      0.100\n",
      "4  0.822314     10.000\n",
      "5  0.822314    100.000\n",
      "6  0.822314   1000.000\n",
      "7  0.822314  10000.000\n",
      "3  0.818182      1.000\n",
      "1  0.760331      0.010\n",
      "0  0.735537      0.001\n"
     ]
    }
   ],
   "source": [
    "#  b) Set the penalty to “l2” and try different C values\n",
    "# [0.001,0.01,0.1,1,10,100,1000,10000] and report LOOCV validation accuracies.\n",
    "from sklearn.linear_model import LogisticRegression\n",
    "acc = []\n",
    "arr = [0.001,0.01,0.1,1,10,100,1000,10000]\n",
    "for i in arr:\n",
    "  model = LogisticRegression(C=i,penalty='l2',max_iter=3000)\n",
    "  scores = cross_val_score(model,X_train,y_train,cv=LeaveOneOut(),scoring=\"accuracy\")\n",
    "  acc.append([scores.mean(),i])\n",
    "df = pd.DataFrame(acc,columns=[\"Accuracy\",\"C Value\"])\n",
    "#  Validation Accuracies Sorted\n",
    "print(\"LOOCValidation Accuracies \\n\",df.sort_values(\"Accuracy\",ascending=False))"
   ]
  },
  {
   "cell_type": "code",
   "execution_count": 17,
   "metadata": {},
   "outputs": [
    {
     "name": "stdout",
     "output_type": "stream",
     "text": [
      "0.7868852459016393\n",
      "0.8032786885245902\n",
      "0.8032786885245902\n",
      "0.8032786885245902\n",
      "0.8032786885245902\n"
     ]
    }
   ],
   "source": [
    "#  c) After picking the C value that has the highest LOOCV accuracy, refit\n",
    "# your model on the standardized training set with the selected C and\n",
    "# compute the test accuracy. \n",
    "\n",
    "# I chose C values with the same accuracy\n",
    "ar = [0.1,10,100,1000,10000]\n",
    "for i in ar:\n",
    "    lr = LogisticRegression(C=i,penalty='l2',max_iter=3000)\n",
    "    lr.fit(X_trainStd,y_train)\n",
    "    y_pred = lr.predict(X_testStd)\n",
    "    print(accuracy_score(y_test, y_pred))"
   ]
  },
  {
   "cell_type": "code",
   "execution_count": 18,
   "metadata": {},
   "outputs": [
    {
     "name": "stdout",
     "output_type": "stream",
     "text": [
      "5-fold CValidation Accuracies \n",
      "     Accuracy    C Value\n",
      "10  0.835034      0.100\n",
      "11  0.834949      1.000\n",
      "13  0.826871    100.000\n",
      "15  0.826871  10000.000\n",
      "12  0.826786     10.000\n",
      "14  0.822704   1000.000\n",
      "2   0.822314      0.100\n",
      "4   0.822314     10.000\n",
      "5   0.822314    100.000\n",
      "6   0.822314   1000.000\n",
      "7   0.822314  10000.000\n",
      "3   0.818182      1.000\n",
      "1   0.760331      0.010\n",
      "9   0.752381      0.010\n",
      "0   0.735537      0.001\n",
      "8   0.727296      0.001\n"
     ]
    }
   ],
   "source": [
    "#  d) Set the penalty to l2 and try different C values\n",
    "# [0.001,0.01,0.1,1,10,100,1000,10000] and report 5-fold cross validation\n",
    "# accuracies\n",
    "for i in arr:\n",
    "  model = LogisticRegression(C=i,penalty='l2',max_iter=3000)\n",
    "  scores = cross_val_score(model,X_train,y_train,cv=5,scoring=\"accuracy\")\n",
    "  acc.append([scores.mean(),i])\n",
    "df = pd.DataFrame(acc,columns=[\"Accuracy\",\"C Value\"])\n",
    "#  Validation Accuracies Sorted\n",
    "print(\"5-fold CValidation Accuracies \\n\",df.sort_values(\"Accuracy\",ascending=False))"
   ]
  },
  {
   "cell_type": "code",
   "execution_count": 19,
   "metadata": {},
   "outputs": [
    {
     "data": {
      "text/plain": [
       "0.7868852459016393"
      ]
     },
     "execution_count": 19,
     "metadata": {},
     "output_type": "execute_result"
    }
   ],
   "source": [
    "#  e) After picking the C values that has the highest 5-fold cross validation\n",
    "# accuracy, compute the test accuracy.\n",
    "lr = LogisticRegression(C=0.1,penalty='l2',max_iter=3000)\n",
    "lr.fit(X_trainStd,y_train)\n",
    "y_pred = lr.predict(X_testStd)\n",
    "accuracy_score(y_test, y_pred)"
   ]
  },
  {
   "cell_type": "code",
   "execution_count": 43,
   "metadata": {},
   "outputs": [
    {
     "name": "stdout",
     "output_type": "stream",
     "text": [
      "LOOCValidation Accuracies \n",
      "    Accuracy    C Value\n",
      "3  0.822314      1.000\n",
      "5  0.822314    100.000\n",
      "6  0.822314   1000.000\n",
      "7  0.822314  10000.000\n",
      "4  0.814050     10.000\n",
      "2  0.797521      0.100\n",
      "1  0.669421      0.010\n",
      "0  0.545455      0.001\n"
     ]
    }
   ],
   "source": [
    "#  f) Repeat (b) to (e) by now setting penalty to “l1”. Are some of the\n",
    "# features excluded from your final model?\n",
    "acc = []\n",
    "arr = [0.001,0.01,0.1,1,10,100,1000,10000]\n",
    "for i in arr:\n",
    "  model = LogisticRegression(C=i,penalty='l1',max_iter=3000,solver='liblinear')\n",
    "  scores = cross_val_score(model,X_train,y_train,cv=LeaveOneOut(),scoring=\"accuracy\")\n",
    "  acc.append([scores.mean(),i])\n",
    "df = pd.DataFrame(acc,columns=[\"Accuracy\",\"C Value\"])\n",
    "#  Validation Accuracies Sorted\n",
    "print(\"LOOCValidation Accuracies \\n\",df.sort_values(\"Accuracy\",ascending=False))"
   ]
  },
  {
   "cell_type": "code",
   "execution_count": 44,
   "metadata": {},
   "outputs": [
    {
     "name": "stdout",
     "output_type": "stream",
     "text": [
      "0.8032786885245902\n",
      "0.8032786885245902\n",
      "0.8032786885245902\n",
      "0.8032786885245902\n"
     ]
    }
   ],
   "source": [
    "# I chose C values with the same accuracy\n",
    "ar = [1,100,1000,10000]\n",
    "for i in ar:\n",
    "    lr = LogisticRegression(C=i,penalty='l1',max_iter=3000,solver='liblinear')\n",
    "    lr.fit(X_trainStd,y_train)\n",
    "    y_pred = lr.predict(X_testStd)\n",
    "    print(accuracy_score(y_test, y_pred))"
   ]
  },
  {
   "cell_type": "code",
   "execution_count": 45,
   "metadata": {},
   "outputs": [
    {
     "name": "stdout",
     "output_type": "stream",
     "text": [
      "5-fold CValidation Accuracies \n",
      "     Accuracy    C Value\n",
      "12  0.830952     10.000\n",
      "13  0.826871    100.000\n",
      "14  0.826871   1000.000\n",
      "15  0.826871  10000.000\n",
      "11  0.826616      1.000\n",
      "3   0.822314      1.000\n",
      "5   0.822314    100.000\n",
      "6   0.822314   1000.000\n",
      "7   0.822314  10000.000\n",
      "4   0.814050     10.000\n",
      "10  0.806037      0.100\n",
      "2   0.797521      0.100\n",
      "9   0.673639      0.010\n",
      "1   0.669421      0.010\n",
      "0   0.545455      0.001\n",
      "8   0.545408      0.001\n"
     ]
    }
   ],
   "source": [
    "for i in arr:\n",
    "  model = LogisticRegression(C=i,penalty='l1',max_iter=3000,solver='liblinear')\n",
    "  scores = cross_val_score(model,X_train,y_train,cv=5,scoring=\"accuracy\")\n",
    "  acc.append([scores.mean(),i])\n",
    "df = pd.DataFrame(acc,columns=[\"Accuracy\",\"C Value\"])\n",
    "#  Validation Accuracies Sorted\n",
    "print(\"5-fold CValidation Accuracies \\n\",df.sort_values(\"Accuracy\",ascending=False))"
   ]
  },
  {
   "cell_type": "code",
   "execution_count": 48,
   "metadata": {
    "scrolled": false
   },
   "outputs": [
    {
     "data": {
      "text/plain": [
       "0.8032786885245902"
      ]
     },
     "execution_count": 48,
     "metadata": {},
     "output_type": "execute_result"
    }
   ],
   "source": [
    "lr = LogisticRegression(C=10,penalty='l1',max_iter=3000,solver='liblinear')\n",
    "lr.fit(X_trainStd,y_train)\n",
    "y_pred = lr.predict(X_testStd)\n",
    "accuracy_score(y_test, y_pred)"
   ]
  },
  {
   "cell_type": "markdown",
   "metadata": {},
   "source": [
    "When C value is 0.1, we get lower score. Hence, excluding features in this model lowers our accuracy.  "
   ]
  }
 ],
 "metadata": {
  "colab": {
   "provenance": []
  },
  "kernelspec": {
   "display_name": "Python 3 (ipykernel)",
   "language": "python",
   "name": "python3"
  },
  "language_info": {
   "codemirror_mode": {
    "name": "ipython",
    "version": 3
   },
   "file_extension": ".py",
   "mimetype": "text/x-python",
   "name": "python",
   "nbconvert_exporter": "python",
   "pygments_lexer": "ipython3",
   "version": "3.9.7"
  }
 },
 "nbformat": 4,
 "nbformat_minor": 1
}
